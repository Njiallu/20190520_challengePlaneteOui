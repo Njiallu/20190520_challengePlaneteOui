{
 "cells": [
  {
   "cell_type": "markdown",
   "metadata": {},
   "source": [
    "# Data Preprocessing"
   ]
  },
  {
   "cell_type": "code",
   "execution_count": 1,
   "metadata": {},
   "outputs": [],
   "source": [
    "# Importer les librairies\n",
    "\n",
    "import numpy as np\n",
    "import matplotlib.pyplot as plt\n",
    "import pandas as pd\n",
    "\n",
    "# Importer le dataset\n",
    "dataset = pd.read_csv('data_set1/input_training_ssnsrY0.csv')\n",
    "X = dataset.iloc[:, 1:].values"
   ]
  },
  {
   "cell_type": "code",
   "execution_count": 2,
   "metadata": {},
   "outputs": [
    {
     "data": {
      "text/plain": [
       "array([['2016-11-01T00:00:00.0', 8.3, nan, ..., 143, 74, 168],\n",
       "       ['2016-11-01T01:00:00.0', 8.0, nan, ..., 141, 60, 162],\n",
       "       ['2016-11-01T02:00:00.0', 6.8, nan, ..., 142, 60, 164],\n",
       "       ...,\n",
       "       ['2017-10-31T21:00:00.0', 9.0, 10.0, ..., 190, 135, 208],\n",
       "       ['2017-10-31T22:00:00.0', 8.0, 9.0, ..., 188, 133, 197],\n",
       "       ['2017-10-31T23:00:00.0', 7.0, 7.9, ..., 198, 128, 189]],\n",
       "      dtype=object)"
      ]
     },
     "execution_count": 2,
     "metadata": {},
     "output_type": "execute_result"
    }
   ],
   "source": [
    "X"
   ]
  },
  {
   "cell_type": "code",
   "execution_count": 3,
   "metadata": {},
   "outputs": [],
   "source": [
    "# Fonction pour explorer les donnees\n",
    "\n",
    "def explore_data(dataset, start, end, rows_and_colums=False):\n",
    "    data_slice = dataset[start:end]\n",
    "    for row in data_slice:\n",
    "        print(row)\n",
    "        print('\\n')"
   ]
  },
  {
   "cell_type": "code",
   "execution_count": 4,
   "metadata": {},
   "outputs": [
    {
     "name": "stdout",
     "output_type": "stream",
     "text": [
      "['2016-11-01T00:00:00.0' 8.3 nan 11.1 95.0 nan '(50.633, 3.067)'\n",
      " '(43.530, 5.447)' '(44.838, -0.579)' '(47.478, -0.563)' '(48.867, 2.333)'\n",
      " 143 74 168]\n",
      "\n",
      "\n",
      "['2016-11-01T01:00:00.0' 8.0 nan 11.1 98.0 nan '(50.633, 3.067)'\n",
      " '(43.530, 5.447)' '(44.838, -0.579)' '(47.478, -0.563)' '(48.867, 2.333)'\n",
      " 141 60 162]\n",
      "\n",
      "\n"
     ]
    }
   ],
   "source": [
    "explore_data(X, 0, 2)\n"
   ]
  },
  {
   "cell_type": "code",
   "execution_count": 5,
   "metadata": {},
   "outputs": [
    {
     "name": "stdout",
     "output_type": "stream",
     "text": [
      "Total row in dataset: 8760\n"
     ]
    }
   ],
   "source": [
    "print(\"Total row in dataset:\", len(dataset))"
   ]
  },
  {
   "cell_type": "code",
   "execution_count": 6,
   "metadata": {},
   "outputs": [
    {
     "name": "stdout",
     "output_type": "stream",
     "text": [
      "                ID       temp_1       temp_2  mean_national_temp   humidity_1  \\\n",
      "count  8760.000000  8589.000000  8429.000000         8760.000000  8589.000000   \n",
      "mean   4379.500000    11.402771    15.086274           13.173858    77.351496   \n",
      "std    2528.938512     7.049919     8.463627            6.474700    16.638173   \n",
      "min       0.000000    -5.700000    -7.200000           -1.800000    21.000000   \n",
      "25%    2189.750000     6.100000     9.000000            8.200000    66.000000   \n",
      "50%    4379.500000    11.200000    14.500000           12.800000    81.000000   \n",
      "75%    6569.250000    16.400000    21.000000           18.700000    91.000000   \n",
      "max    8759.000000    33.600000    39.300000           28.300000   100.000000   \n",
      "\n",
      "        humidity_2  consumption_secondary_1  consumption_secondary_2  \\\n",
      "count  8428.000000              8760.000000              8760.000000   \n",
      "mean     63.443284               203.025114               123.581735   \n",
      "std      21.900343                69.792811                65.036526   \n",
      "min      12.000000                84.000000                 0.000000   \n",
      "25%      46.000000               150.000000                73.000000   \n",
      "50%      65.000000               181.000000               107.000000   \n",
      "75%      83.000000               252.000000               160.000000   \n",
      "max      99.000000               464.000000               355.000000   \n",
      "\n",
      "       consumption_secondary_3  \n",
      "count              8760.000000  \n",
      "mean                235.774201  \n",
      "std                  99.701896  \n",
      "min                  94.000000  \n",
      "25%                 166.000000  \n",
      "50%                 194.000000  \n",
      "75%                 287.250000  \n",
      "max                 570.000000  \n"
     ]
    },
    {
     "ename": "ModuleNotFoundError",
     "evalue": "No module named 'plotly'",
     "output_type": "error",
     "traceback": [
      "\u001b[0;31m---------------------------------------------------------------------------\u001b[0m",
      "\u001b[0;31mModuleNotFoundError\u001b[0m                       Traceback (most recent call last)",
      "\u001b[0;32m<ipython-input-6-c16ddce63be3>\u001b[0m in \u001b[0;36m<module>\u001b[0;34m\u001b[0m\n\u001b[1;32m     22\u001b[0m \u001b[0;34m\u001b[0m\u001b[0m\n\u001b[1;32m     23\u001b[0m \u001b[0mdataInt\u001b[0m \u001b[0;34m=\u001b[0m \u001b[0mdataInt\u001b[0m\u001b[0;34m.\u001b[0m\u001b[0mdrop\u001b[0m\u001b[0;34m(\u001b[0m\u001b[0;34m[\u001b[0m\u001b[0;34m\"timestamp\"\u001b[0m\u001b[0;34m,\u001b[0m \u001b[0;34m\"ID\"\u001b[0m\u001b[0;34m]\u001b[0m\u001b[0;34m,\u001b[0m\u001b[0maxis\u001b[0m\u001b[0;34m=\u001b[0m\u001b[0;36m1\u001b[0m\u001b[0;34m)\u001b[0m\u001b[0;34m\u001b[0m\u001b[0;34m\u001b[0m\u001b[0m\n\u001b[0;32m---> 24\u001b[0;31m \u001b[0;32mimport\u001b[0m \u001b[0mplotly\u001b[0m\u001b[0;34m\u001b[0m\u001b[0;34m\u001b[0m\u001b[0m\n\u001b[0m\u001b[1;32m     25\u001b[0m \u001b[0;32mfrom\u001b[0m \u001b[0mplotly\u001b[0m\u001b[0;34m.\u001b[0m\u001b[0moffline\u001b[0m \u001b[0;32mimport\u001b[0m \u001b[0minit_notebook_mode\u001b[0m\u001b[0;34m,\u001b[0m \u001b[0miplot\u001b[0m\u001b[0;34m\u001b[0m\u001b[0;34m\u001b[0m\u001b[0m\n\u001b[1;32m     26\u001b[0m \u001b[0;32mimport\u001b[0m \u001b[0mplotly\u001b[0m\u001b[0;34m.\u001b[0m\u001b[0mgraph_objs\u001b[0m \u001b[0;32mas\u001b[0m \u001b[0mgo\u001b[0m\u001b[0;34m\u001b[0m\u001b[0;34m\u001b[0m\u001b[0m\n",
      "\u001b[0;31mModuleNotFoundError\u001b[0m: No module named 'plotly'"
     ]
    }
   ],
   "source": [
    "\n",
    "# Importing the libraries\n",
    "import numpy as np\n",
    "import matplotlib.pyplot as plt\n",
    "import pandas as pd\n",
    "\n",
    "\n",
    "# Importing the dataset\n",
    "dataInt = pd.read_csv('./data_set1/input_training_ssnsrY0.csv')\n",
    "dataTest = pd.read_csv('./data_set1/input_test_cdKcI0e.csv')\n",
    "dataOut = pd.read_csv('./data_set1/output_training_Uf11I9I.csv')\n",
    "\n",
    "import datetime as dt\n",
    "from datetime import datetime\n",
    "import calendar\n",
    "\n",
    "print(dataInt.describe())\n",
    "\n",
    "dataInt[\"date\"] = dataInt.timestamp.apply(lambda x : x.split('T')[0])\n",
    "dataInt[\"hour\"] = dataInt.timestamp.apply(lambda x : x.split('T')[1].split(\":\")[0]).astype(int)\n",
    "dataInt[\"date\"] = pd.to_datetime(dataInt['date'], format=\"%Y/%m/%d\")\n",
    "\n",
    "dataInt = dataInt.drop([\"timestamp\", \"ID\"],axis=1)\n",
    "import plotly\n",
    "from plotly.offline import init_notebook_mode, iplot\n",
    "import plotly.graph_objs as go\n",
    "init_notebook_mode(connected=True)\n",
    "\n",
    "groupBy_whole = dataInt.groupby('date').mean()\n",
    "\n",
    "trace1 = go.Scatter(\n",
    "        x=groupBy_whole.temp_1.index, \n",
    "        y=groupBy_whole.temp_1, \n",
    "        mode = 'lines',\n",
    "        name = 'temp_1',\n",
    "        marker = dict(color = 'rgba(0, 191, 205, 0.4)'))\n",
    "trace2 = go.Scatter(\n",
    "        x=groupBy_whole.temp_2.index, \n",
    "        y=groupBy_whole.temp_2, \n",
    "        mode = 'lines',\n",
    "        name = 'temp_2',\n",
    "        marker = dict(color = 'rgba(1, 50, 2, 0.2)'))\n",
    "trace3 = go.Scatter(\n",
    "        x=groupBy_whole.mean_national_temp.index, \n",
    "        y=groupBy_whole.mean_national_temp, \n",
    "        mode = 'lines',\n",
    "        name = 'mean_national_temp',\n",
    "        marker = dict(color = 'rgba(0, 61, 80, 0.6)'))\n",
    "trace4 = go.Scatter(\n",
    "        x=groupBy_whole.humidity_1.index, \n",
    "        y=groupBy_whole.humidity_1, \n",
    "        name = 'humidity_1',\n",
    "        line = dict(\n",
    "            color = 'rgba(0, 191, 205, 0.6)',\n",
    "            width = 2,\n",
    "            dash = 'dot'))\n",
    "trace5 = go.Scatter(\n",
    "        x=groupBy_whole.humidity_2.index, \n",
    "        y=groupBy_whole.humidity_2, \n",
    "        name = 'humidity_2',\n",
    "        line = dict(\n",
    "            color = 'rgba(1, 50, 2, 0.4)',\n",
    "            width = 2,\n",
    "            dash = 'dot'))\n",
    "\n",
    "data = [trace1, trace2, trace3, trace4, trace5]\n",
    "\n",
    "layout=dict(title=\"Time Series Plot for Mean Daily temperature\", xaxis={'title':'Date'}, yaxis={'title':'Temp/Humidity'})\n",
    "fig=dict(data=data,layout=layout)\n",
    "iplot(fig)"
   ]
  },
  {
   "cell_type": "code",
   "execution_count": null,
   "metadata": {},
   "outputs": [],
   "source": []
  },
  {
   "cell_type": "code",
   "execution_count": null,
   "metadata": {},
   "outputs": [],
   "source": []
  },
  {
   "cell_type": "code",
   "execution_count": null,
   "metadata": {},
   "outputs": [],
   "source": []
  },
  {
   "cell_type": "code",
   "execution_count": null,
   "metadata": {},
   "outputs": [],
   "source": []
  }
 ],
 "metadata": {
  "kernelspec": {
   "display_name": "Python 3",
   "language": "python",
   "name": "python3"
  },
  "language_info": {
   "codemirror_mode": {
    "name": "ipython",
    "version": 3
   },
   "file_extension": ".py",
   "mimetype": "text/x-python",
   "name": "python",
   "nbconvert_exporter": "python",
   "pygments_lexer": "ipython3",
   "version": "3.7.3"
  }
 },
 "nbformat": 4,
 "nbformat_minor": 2
}
