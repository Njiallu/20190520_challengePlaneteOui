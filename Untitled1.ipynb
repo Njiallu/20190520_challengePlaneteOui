{
 "cells": [
  {
   "cell_type": "markdown",
   "metadata": {},
   "source": [
    "# Data Preprocessing"
   ]
  },
  {
   "cell_type": "code",
   "execution_count": 34,
   "metadata": {},
   "outputs": [],
   "source": [
    "# Importer les librairies\n",
    "\n",
    "import numpy as np\n",
    "import matplotlib.pyplot as plt\n",
    "import pandas as pd\n",
    "\n",
    "# Importer le dataset\n",
    "dataset = pd.read_csv('data_set1/input_training_ssnsrY0.csv')\n",
    "X = dataset.iloc[:, 1:].values"
   ]
  },
  {
   "cell_type": "code",
   "execution_count": 35,
   "metadata": {},
   "outputs": [
    {
     "data": {
      "text/plain": [
       "array([['2016-11-01T00:00:00.0', 8.3, nan, ..., 143, 74, 168],\n",
       "       ['2016-11-01T01:00:00.0', 8.0, nan, ..., 141, 60, 162],\n",
       "       ['2016-11-01T02:00:00.0', 6.8, nan, ..., 142, 60, 164],\n",
       "       ...,\n",
       "       ['2017-10-31T21:00:00.0', 9.0, 10.0, ..., 190, 135, 208],\n",
       "       ['2017-10-31T22:00:00.0', 8.0, 9.0, ..., 188, 133, 197],\n",
       "       ['2017-10-31T23:00:00.0', 7.0, 7.9, ..., 198, 128, 189]],\n",
       "      dtype=object)"
      ]
     },
     "execution_count": 35,
     "metadata": {},
     "output_type": "execute_result"
    }
   ],
   "source": [
    "X"
   ]
  },
  {
   "cell_type": "code",
   "execution_count": 29,
   "metadata": {},
   "outputs": [],
   "source": [
    "# Fonction pour explorer les donnees\n",
    "\n",
    "def explore_data(dataset, start, end, rows_and_colums=False):\n",
    "    data_slice = dataset[start:end]\n",
    "    for row in data_slice:\n",
    "        print(row)\n",
    "        print('\\n')"
   ]
  },
  {
   "cell_type": "code",
   "execution_count": 30,
   "metadata": {},
   "outputs": [
    {
     "name": "stdout",
     "output_type": "stream",
     "text": [
      "[0 '2016-11-01T00:00:00.0' 8.3 nan 11.1 95.0 nan '(50.633, 3.067)'\n",
      " '(43.530, 5.447)' '(44.838, -0.579)' '(47.478, -0.563)' '(48.867, 2.333)'\n",
      " 143 74 168]\n",
      "\n",
      "\n",
      "[1 '2016-11-01T01:00:00.0' 8.0 nan 11.1 98.0 nan '(50.633, 3.067)'\n",
      " '(43.530, 5.447)' '(44.838, -0.579)' '(47.478, -0.563)' '(48.867, 2.333)'\n",
      " 141 60 162]\n",
      "\n",
      "\n"
     ]
    }
   ],
   "source": [
    "explore_data(X, 0, 2)\n"
   ]
  },
  {
   "cell_type": "code",
   "execution_count": 31,
   "metadata": {},
   "outputs": [
    {
     "name": "stdout",
     "output_type": "stream",
     "text": [
      "Total row in dataset: 8760\n"
     ]
    }
   ],
   "source": [
    "print(\"Total row in dataset:\", len(dataset))"
   ]
  },
  {
   "cell_type": "code",
   "execution_count": null,
   "metadata": {},
   "outputs": [],
   "source": []
  }
 ],
 "metadata": {
  "kernelspec": {
   "display_name": "Python 3",
   "language": "python",
   "name": "python3"
  },
  "language_info": {
   "codemirror_mode": {
    "name": "ipython",
    "version": 3
   },
   "file_extension": ".py",
   "mimetype": "text/x-python",
   "name": "python",
   "nbconvert_exporter": "python",
   "pygments_lexer": "ipython3",
   "version": "3.7.3"
  }
 },
 "nbformat": 4,
 "nbformat_minor": 2
}
